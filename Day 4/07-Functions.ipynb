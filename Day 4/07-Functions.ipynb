{
 "cells": [
  {
   "cell_type": "markdown",
   "metadata": {},
   "source": [
    "# 07-Functions\n",
    "\n",
    "This notebook shows how we can create our own functions in Python."
   ]
  },
  {
   "cell_type": "markdown",
   "metadata": {},
   "source": [
    "Functions are named groups of code that accomplish specific tasks.\n",
    "\n",
    "A function has four characteristics:\n",
    "1. Name\n",
    "2. Task\n",
    "3. Input (also known as parameters)\n",
    "4. Output"
   ]
  },
  {
   "cell_type": "markdown",
   "metadata": {},
   "source": [
    "For instance, we have used `len` to calculate the length of sequences, e.g. strings, lists.\n",
    "\n",
    "1. Name: len\n",
    "2. Task: calculate the length of a sequence\n",
    "3. Input: a sequence\n",
    "4. Output: an integer that is the length of the sequence"
   ]
  },
  {
   "cell_type": "code",
   "execution_count": null,
   "metadata": {},
   "outputs": [],
   "source": [
    "len([1, 2, 3, 4, 5, 6, 7])"
   ]
  },
  {
   "cell_type": "markdown",
   "metadata": {},
   "source": [
    "We will now create our own functions. First, we must import the packages that we will use."
   ]
  },
  {
   "cell_type": "code",
   "execution_count": null,
   "metadata": {},
   "outputs": [],
   "source": [
    "import pandas as pd\n",
    "import matplotlib.pyplot as plt"
   ]
  },
  {
   "cell_type": "code",
   "execution_count": null,
   "metadata": {},
   "outputs": [],
   "source": []
  },
  {
   "cell_type": "markdown",
   "metadata": {},
   "source": [
    "## Creating functions"
   ]
  },
  {
   "cell_type": "markdown",
   "metadata": {},
   "source": [
    "In order to create our own functions, we must define the function *header* and the function *body*:\n",
    "\n",
    "- Function header:\n",
    "    1. `def` keyword\n",
    "    2. Function name\n",
    "    3. Sequence of inputs enclosed in parentheis (can be empty)\n",
    "    4. A colon\n",
    "\n",
    "\n",
    "- Function body:\n",
    "    1. Indented block of code\n",
    "    2. Return statement\n",
    "    \n",
    "    \n",
    "**Syntax**:    \n",
    "```\n",
    "def function_name(input1, input2...):\n",
    "\n",
    "    <code block>\n",
    "    \n",
    "    return <output>\n",
    "```"
   ]
  },
  {
   "cell_type": "markdown",
   "metadata": {},
   "source": [
    "Let us create a function called `avg` that calculates the average of two numbers."
   ]
  },
  {
   "cell_type": "code",
   "execution_count": null,
   "metadata": {},
   "outputs": [],
   "source": [
    "def avg(a, b):\n",
    "    \n",
    "    avg = (a + b) / 2\n",
    "    \n",
    "    return avg"
   ]
  },
  {
   "cell_type": "markdown",
   "metadata": {},
   "source": [
    "Once we have created the function, we can execute `avg` as many times that we want, each time using a different set of numbers.\n",
    "\n",
    "Ps: Notice that we must run the cell with the function before we can actually use it."
   ]
  },
  {
   "cell_type": "code",
   "execution_count": null,
   "metadata": {},
   "outputs": [],
   "source": [
    "avg(a = 20, b = 10)"
   ]
  },
  {
   "cell_type": "code",
   "execution_count": null,
   "metadata": {},
   "outputs": [],
   "source": [
    "avg(a = 45.4, b = 3)"
   ]
  },
  {
   "cell_type": "code",
   "execution_count": null,
   "metadata": {},
   "outputs": [],
   "source": [
    "avg(a = 1, b = 5)"
   ]
  },
  {
   "cell_type": "markdown",
   "metadata": {},
   "source": [
    "Notice that we do not actually have to specify the names of the parameters when we use the function. When we drop the names, the first value will be automatically assigned to the first parameter, and the second value will be assigned to the second parameter."
   ]
  },
  {
   "cell_type": "code",
   "execution_count": null,
   "metadata": {},
   "outputs": [],
   "source": [
    "avg(1, 5)"
   ]
  },
  {
   "cell_type": "markdown",
   "metadata": {},
   "source": [
    "<div class=\"alert alert-info\">\n",
    "<h3> Your turn</h3>\n",
    "    <p> Modify the function <code>avg</code> so that it calculates the average of three numbers instead.\n",
    "      \n",
    "</div>"
   ]
  },
  {
   "cell_type": "markdown",
   "metadata": {},
   "source": [
    "**Solution**\n",
    "\n",
    "<details>\n",
    "    \n",
    "<summary> Click to expand!</summary>\n",
    "<p> \n",
    "\n",
    "```c#\n",
    "def avg(a, b, c):\n",
    "    \n",
    "    avg = (a + b + c) / 3\n",
    "    \n",
    "    return avg\n",
    "\n",
    "avg(1, 2, 3)\n",
    "```\n",
    "\n",
    "</p>\n",
    "</details> "
   ]
  },
  {
   "cell_type": "code",
   "execution_count": null,
   "metadata": {},
   "outputs": [],
   "source": []
  },
  {
   "cell_type": "markdown",
   "metadata": {},
   "source": [
    "The main reason for writing functions is to increase the *reusability* of our code."
   ]
  },
  {
   "cell_type": "markdown",
   "metadata": {},
   "source": [
    "Let us write a program that calculates the average of a list of numbers."
   ]
  },
  {
   "cell_type": "code",
   "execution_count": null,
   "metadata": {},
   "outputs": [],
   "source": [
    "# Define a list of numbers\n",
    "number_lst = [1, 2, 3, 4, 5, 6, 7]\n",
    "\n",
    "# Sum the numbers in list\n",
    "lst_sum = sum(number_lst)\n",
    "\n",
    "# Calculate the lenght of the list\n",
    "lst_length = len(number_lst)\n",
    "\n",
    "# Calculate the mean\n",
    "avg = lst_sum / lst_length\n",
    "\n",
    "avg"
   ]
  },
  {
   "cell_type": "markdown",
   "metadata": {},
   "source": [
    "The program above is specific to the list of numbers. \n",
    "\n",
    "If we want to calculate the average of a list with different numbers, we have two options:\n",
    "\n",
    "- Re-write the same program but for a different list of numbers. Boring!\n",
    "- Write a function that calculates the average of any given list of numbers. Fun!"
   ]
  },
  {
   "cell_type": "markdown",
   "metadata": {},
   "source": [
    "Let us create a function called `avg_list` that calculates the sum of a list. `avg_list` takes one input, a list of numbers, and it returns the sum of that list. "
   ]
  },
  {
   "cell_type": "code",
   "execution_count": null,
   "metadata": {},
   "outputs": [],
   "source": [
    "def avg_list(number_lst):\n",
    "\n",
    "    # Calculate the sum of the numbers\n",
    "    lst_sum = sum(number_lst)\n",
    "\n",
    "    # Calculate the lenght of the list\n",
    "    lst_length = len(number_lst)\n",
    "\n",
    "    # Calculate the mean\n",
    "    avg = lst_sum / lst_length\n",
    "    \n",
    "    # Return the mean\n",
    "    return avg"
   ]
  },
  {
   "cell_type": "markdown",
   "metadata": {},
   "source": [
    "We can now use the function as many times as we would like, each time for a different list of numbers."
   ]
  },
  {
   "cell_type": "code",
   "execution_count": null,
   "metadata": {},
   "outputs": [],
   "source": [
    "avg_list([10, 9, 4, 5, 9, 10, 0])"
   ]
  },
  {
   "cell_type": "code",
   "execution_count": null,
   "metadata": {},
   "outputs": [],
   "source": [
    "avg_list([1, 2, 3])"
   ]
  },
  {
   "cell_type": "code",
   "execution_count": null,
   "metadata": {},
   "outputs": [],
   "source": [
    "avg_list([11, 10, 5, 10, 11, 1, 1])"
   ]
  },
  {
   "cell_type": "markdown",
   "metadata": {},
   "source": [
    "Notice that we can store the output of the function by assigning the output of the function to a variable."
   ]
  },
  {
   "cell_type": "code",
   "execution_count": null,
   "metadata": {},
   "outputs": [],
   "source": [
    "mean = avg_list([11, 10, 5, 10, 11, 1, 1])"
   ]
  },
  {
   "cell_type": "code",
   "execution_count": null,
   "metadata": {},
   "outputs": [],
   "source": [
    "mean"
   ]
  },
  {
   "cell_type": "markdown",
   "metadata": {},
   "source": [
    "<div class=\"alert alert-info\">\n",
    "<h3> Your turn</h3>\n",
    "    <p> Write a function called <code>to_fahren</code> that converts a temperature from Celsius to Fahrenheit. The function takes one input: a temperature in Celsius. The function should return the temperature in Fahrenheit.\n",
    "  \n",
    "Conversion from Celsius to Fahrenheit follows this formula: Fahrenheit = (Celsius * 9 / 5) + 32\n",
    "        \n",
    "</div>"
   ]
  },
  {
   "cell_type": "markdown",
   "metadata": {},
   "source": [
    "**Solution**\n",
    "\n",
    "<details>\n",
    "    \n",
    "<summary> Click to expand!</summary>\n",
    "<p> \n",
    "\n",
    "```c#\n",
    "def to_fahren(celc):\n",
    "    \n",
    "    fahr = (celc * 9 / 5) + 32\n",
    "    \n",
    "    return round(fahr, 1) # use round function to round temperature to one decimal\n",
    "    \n",
    "print(to_fahren(0))\n",
    "print(to_fahren(4))\n",
    "print(to_fahren(30))\n",
    "```\n",
    "\n",
    "</p>\n",
    "</details> "
   ]
  },
  {
   "cell_type": "code",
   "execution_count": null,
   "metadata": {},
   "outputs": [],
   "source": []
  },
  {
   "cell_type": "markdown",
   "metadata": {},
   "source": [
    "## Functions in data analysis\n",
    "\n",
    "There are two main ways that we use functions in data analysis:\n",
    "1. To `apply` self-defined functions\n",
    "2. To automate the workflow"
   ]
  },
  {
   "cell_type": "markdown",
   "metadata": {},
   "source": [
    "#### `apply` self-defined functions\n",
    "\n",
    "Sometimes when we work with data in Python, we find ourselves wanting to do something that no one has yet created a function for. \n",
    "\n",
    "When this happens, we can create our own function and then use `apply` in order to apply our function on a `DataFrame`."
   ]
  },
  {
   "cell_type": "markdown",
   "metadata": {},
   "source": [
    "For instance, the `titanic` data has a column for the age of the passenger. But what if we instead want an indicator for whether the passenger was a minor or not?"
   ]
  },
  {
   "cell_type": "code",
   "execution_count": null,
   "metadata": {},
   "outputs": [],
   "source": [
    "titanic = pd.read_csv('data/titanic.csv')\n",
    "\n",
    "titanic.head()"
   ]
  },
  {
   "cell_type": "markdown",
   "metadata": {},
   "source": [
    "Python has no function for evaluating whether someone is a minor... Instead, we must create our own `minor` function.\n",
    "\n",
    "Notice that we can use an `if-else` statement inside a function, in which case the function will return different values depending on whether the condition is `True` or not."
   ]
  },
  {
   "cell_type": "code",
   "execution_count": null,
   "metadata": {},
   "outputs": [],
   "source": [
    "def minor(age):\n",
    "    \n",
    "    # If minor, return 1\n",
    "    if (age < 18):\n",
    "        return 1\n",
    "    \n",
    "    # Else, return 0\n",
    "    elif (age >= 18): \n",
    "        return 0"
   ]
  },
  {
   "cell_type": "code",
   "execution_count": null,
   "metadata": {},
   "outputs": [],
   "source": [
    "minor(12)"
   ]
  },
  {
   "cell_type": "markdown",
   "metadata": {},
   "source": [
    "We can now `apply` the self-defined `minor` function on the `Age` column. We assign the return value of the function to a new column called `Minor`."
   ]
  },
  {
   "cell_type": "code",
   "execution_count": null,
   "metadata": {},
   "outputs": [],
   "source": [
    "titanic['Minor'] = titanic['Age'].apply(minor)\n",
    "\n",
    "titanic.head()"
   ]
  },
  {
   "cell_type": "code",
   "execution_count": null,
   "metadata": {
    "scrolled": true
   },
   "outputs": [],
   "source": [
    "titanic[titanic['Age'].isna()]"
   ]
  },
  {
   "cell_type": "markdown",
   "metadata": {},
   "source": [
    "Notice that it is very rare that Python lacks a function for a specific task!!!\n",
    "\n",
    "Although Python does not have a specific function for checking whether a person is a minor or not, we \n",
    "can for example use the `loc` function to look up rows and assign different values depending on the observed value in the `Age` column. "
   ]
  },
  {
   "cell_type": "code",
   "execution_count": null,
   "metadata": {},
   "outputs": [],
   "source": [
    "import numpy as np # need np.nan"
   ]
  },
  {
   "cell_type": "code",
   "execution_count": null,
   "metadata": {},
   "outputs": [],
   "source": [
    "# Create a Minor column and sssume that everyone is a minor\n",
    "titanic['Minor'] = 1\n",
    "\n",
    "# Update value in Minor column for adults and if age is missing\n",
    "titanic.loc[titanic['Age'] >= 18, 'Minor'] = 0\n",
    "titanic.loc[titanic['Age'].isna(), 'Minor'] = np.nan\n",
    "\n",
    "titanic"
   ]
  },
  {
   "cell_type": "markdown",
   "metadata": {},
   "source": [
    "In general, it is better to use Python functions than writting our own functions since Python functions are written by professional programmers and are therefore usually much more efficient."
   ]
  },
  {
   "cell_type": "markdown",
   "metadata": {},
   "source": [
    "<div class=\"alert alert-info\">\n",
    "<h3> Your turn</h3>\n",
    "    <p> The file <code>temp_march.csv</code> contains the daily mean temperature in Celsius for each day in March 2021 in Bergen. Import the file and convert the daily temperature from Celsius to Fahrenheit. Name the new column <code>temp_fahr</code>.\n",
    "      \n",
    "</div>"
   ]
  },
  {
   "cell_type": "markdown",
   "metadata": {},
   "source": [
    "**Solution**\n",
    "\n",
    "<details>\n",
    "    \n",
    "<summary> Click to expand!</summary>\n",
    "<p> \n",
    "\n",
    "```c#\n",
    "# Import df\n",
    "df_temp = pd.read_csv('data/temp_march.csv')\n",
    "\n",
    "# Alternative 1: use apply with self-defined function\n",
    "df_temp['temp_fahr'] = df_temp['temp_celc'].apply(to_fahren)\n",
    "\n",
    "# Alternative 2: \"vectorize\" the operation by directly applying the \n",
    "# conversion on the column. This is usually preferred as we convert the \n",
    "# entire column at once instead of doing the conversion row-by-row.\n",
    "df_temp['temp_fahr'] = (df_temp['temp_celc'] * 9 / 5) + 32\n",
    "\n",
    "\n",
    "df_temp.head()\n",
    "```\n",
    "\n",
    "</p>\n",
    "</details> "
   ]
  },
  {
   "cell_type": "code",
   "execution_count": null,
   "metadata": {},
   "outputs": [],
   "source": []
  },
  {
   "cell_type": "markdown",
   "metadata": {},
   "source": [
    "#### Automate the workflow\n",
    "\n",
    "In data analysis, we often find us doing the same type of transformation every time we work with a new data set. \n",
    "\n",
    "When this is the case it is better to instead place the transformations inside a function, and then we can simply use the function whenever we work on a new data set."
   ]
  },
  {
   "cell_type": "markdown",
   "metadata": {},
   "source": [
    "E.g. in the last lecture (iterative control structure), we wrote a program that converts all columns in a `DataFrame` to lower-case."
   ]
  },
  {
   "cell_type": "code",
   "execution_count": null,
   "metadata": {},
   "outputs": [],
   "source": [
    "apple = pd.read_csv('data/AAPL.csv')\n",
    "\n",
    "apple.head()"
   ]
  },
  {
   "cell_type": "markdown",
   "metadata": {},
   "source": [
    "We used a `for` loop to convert each column name to lower-case and then stored the transformed column name in an empty list. "
   ]
  },
  {
   "cell_type": "code",
   "execution_count": null,
   "metadata": {},
   "outputs": [],
   "source": [
    "# Create empty list\n",
    "col_names = []\n",
    "\n",
    "for col in apple.columns:\n",
    "    \n",
    "    # Convert column name to lower case\n",
    "    col_lower = col.lower()\n",
    "    \n",
    "    # Append to list\n",
    "    col_names.append(col_lower)\n",
    "    \n",
    "col_names"
   ]
  },
  {
   "cell_type": "markdown",
   "metadata": {},
   "source": [
    "We updated the column names in the `DataFrame` by assigning the list with the new column names to the `columns` attribute."
   ]
  },
  {
   "cell_type": "code",
   "execution_count": null,
   "metadata": {},
   "outputs": [],
   "source": [
    "# Update column names\n",
    "apple.columns = col_names\n",
    "\n",
    "apple.head()"
   ]
  },
  {
   "cell_type": "markdown",
   "metadata": {},
   "source": [
    "Let us convert this program to a function called `lower_columns`. The function takes only one input, a `DataFrame`, and returns the a new `DataFrame` with the converted column names.\n",
    "\n",
    "We make two changes in the function. First, we replace `apple` with the more general name `df`, and second, we make a copy of the original `df` (notice that since `DataFrame`s are mutable, if we do not make a copy then we will end up altering the original `DataFrame`)."
   ]
  },
  {
   "cell_type": "code",
   "execution_count": null,
   "metadata": {},
   "outputs": [],
   "source": [
    "def lower_columns(df):\n",
    "    \n",
    "    # Create empty list\n",
    "    col_names = []\n",
    "\n",
    "\n",
    "    # Loop over column names\n",
    "    for col in df.columns:\n",
    "\n",
    "        # Convert column name to lower case\n",
    "        col_name = col.lower()\n",
    "\n",
    "        # Append to list\n",
    "        col_names.append(col_name)\n",
    "\n",
    "    # Make a copy of old df\n",
    "    df_new = df.copy()      \n",
    "    \n",
    "    # Update column names in new df\n",
    "    df_new.columns = col_names\n",
    "    \n",
    "    # Return new df\n",
    "    return df_new"
   ]
  },
  {
   "cell_type": "markdown",
   "metadata": {},
   "source": [
    "We can now use the function to convert column names in e.g. our `titanic` data to lower-case."
   ]
  },
  {
   "cell_type": "code",
   "execution_count": null,
   "metadata": {},
   "outputs": [],
   "source": [
    "titanic = pd.read_csv('data/titanic.csv')\n",
    "\n",
    "titanic.head()"
   ]
  },
  {
   "cell_type": "markdown",
   "metadata": {},
   "source": [
    "Let us use the function to create a new `DataFrame` with the column names in lower case."
   ]
  },
  {
   "cell_type": "code",
   "execution_count": null,
   "metadata": {},
   "outputs": [],
   "source": [
    "titanic_new = lower_columns(titanic)\n",
    "\n",
    "titanic_new.head()"
   ]
  },
  {
   "cell_type": "markdown",
   "metadata": {},
   "source": [
    "Notice that the original `DataFrame` has not been altered (because we made a copy of the `DateFrame` inside the function!)."
   ]
  },
  {
   "cell_type": "code",
   "execution_count": null,
   "metadata": {},
   "outputs": [],
   "source": [
    "titanic.head()"
   ]
  },
  {
   "cell_type": "markdown",
   "metadata": {},
   "source": [
    "Alternatively, we can overwrite the original `DataFrame`."
   ]
  },
  {
   "cell_type": "code",
   "execution_count": null,
   "metadata": {},
   "outputs": [],
   "source": [
    "titanic = lower_columns(titanic)\n",
    "\n",
    "titanic.head()"
   ]
  },
  {
   "cell_type": "markdown",
   "metadata": {},
   "source": [
    "In the previous lecture, we also wrote a program to round columns in a `DataFrame` to two decimals. Let us convert that program to a function called `round_columns`. \n",
    "\n",
    "`round_columns` takes three inputs: a `DataFrame`, a list of column labels, and the number of decimals to round the columns to. The function returns a copy of the original `DataFrame` with the rounded columns."
   ]
  },
  {
   "cell_type": "code",
   "execution_count": null,
   "metadata": {},
   "outputs": [],
   "source": [
    "def round_columns(df, col_lst, decimals):\n",
    "    \n",
    "    # Copy df\n",
    "    df_copy = df.copy()\n",
    "    \n",
    "    # Loop over column names\n",
    "    for col in col_lst:\n",
    "\n",
    "        # Round column\n",
    "        df_copy[col] = df_copy[col].round(decimals)\n",
    "\n",
    "    # Return the new df\n",
    "    return df_copy"
   ]
  },
  {
   "cell_type": "code",
   "execution_count": null,
   "metadata": {},
   "outputs": [],
   "source": [
    "apple_round = round_columns(apple, ['open', 'high', 'low', 'close', 'adj close'], 1)\n",
    "\n",
    "apple_round.head()"
   ]
  },
  {
   "cell_type": "markdown",
   "metadata": {},
   "source": [
    "<div class=\"alert alert-info\">\n",
    "<h3> Your turn</h3>\n",
    "    <p> Create a function called <code>int_columns</code> that converts columns in a <code>DataFrame</code> to integers. The function should take two parameters: a <code>DataFrame</code> and a list of the names of the columns to be converted. The function should return a copy of the original <code>DataFrame</code> with the transformations. \n",
    "        \n",
    "Test your function by converting the columns <code>mpg</code>, <code>horsepower</code> and <code>acceleration</code> in <code>mpg.xlsx</code>.\n",
    "      \n",
    "</div>"
   ]
  },
  {
   "cell_type": "markdown",
   "metadata": {},
   "source": [
    "**Solution**\n",
    "\n",
    "<details>\n",
    "    \n",
    "<summary> Click to expand!</summary>\n",
    "<p> \n",
    "\n",
    "```c#\n",
    "# Notice that we cannot convert columns to integers if they contain any nans. \n",
    "# We therefor use the function dropna to drop all rows with nans. \n",
    "\n",
    "# In addition, we give the list with the column labels to the optional \n",
    "# parameter \"subset\" in dropna to only drop rows if there are nans in the columns\n",
    "# that we are going to convert to integers.\n",
    "\n",
    "def int_columns(df, col_lst):\n",
    "    \n",
    "    # Copy df\n",
    "    df_copy = df.copy()\n",
    "    \n",
    "    # Drop nans (only if there are nans in col_lst)\n",
    "    df_copy.dropna(subset = col_lst, axis = 0, inplace = True)\n",
    "    \n",
    "    for col in col_lst:\n",
    "        \n",
    "        # Convert to int\n",
    "        df_copy[col] = df_copy[col].astype(int)\n",
    "        \n",
    "    return df_copy  \n",
    "\n",
    "\n",
    "mpg_df = pd.read_excel('data/mpg.xlsx')\n",
    "\n",
    "# Notice the different length of the dataframe that is returned by our \n",
    "# function depending on whether or not we drop horsepower from the list of columns to convert.\n",
    "int_columns(mpg_df, ['mpg', 'horsepower', 'acceleration'])\n",
    "#int_columns(mpg_df, ['mpg', 'acceleration'])\n",
    "```\n",
    "\n",
    "</p>\n",
    "</details> "
   ]
  },
  {
   "cell_type": "code",
   "execution_count": null,
   "metadata": {},
   "outputs": [],
   "source": []
  },
  {
   "cell_type": "markdown",
   "metadata": {},
   "source": [
    "## Non-value returning functions"
   ]
  },
  {
   "cell_type": "markdown",
   "metadata": {},
   "source": [
    "We have so far looked at **value-returning functions**:\n",
    "\n",
    "- Use the return statement to return the output\n",
    "- The function output can be saved by assigning it to a variable\n",
    "\n",
    "In addition, there are also **non-value returning functions**:\n",
    "\n",
    "- Have no return statement\n",
    "- Have other desirable \"side effects\"\n",
    "- We do not save function output to a variable name (because there is nothing to save)"
   ]
  },
  {
   "cell_type": "markdown",
   "metadata": {},
   "source": [
    "In the previous lecture, we created a `DataFrame` with the daily closing price for ten different stocks.\n",
    "\n",
    "Let us import the stock data, and filter the rows for the Amazon stock."
   ]
  },
  {
   "cell_type": "code",
   "execution_count": null,
   "metadata": {},
   "outputs": [],
   "source": [
    "# Import data\n",
    "df_close = pd.read_csv('data/closing_prices.csv')\n",
    "\n",
    "# Convert to datetime\n",
    "df_close['Date'] = pd.to_datetime(df_close['Date'])\n",
    "\n",
    "# Extract subset\n",
    "amazon = df_close[df_close['Stock'] == 'AMZN'].copy()\n",
    "\n",
    "amazon.head()"
   ]
  },
  {
   "cell_type": "markdown",
   "metadata": {},
   "source": [
    "Let us plot the daily closing price for Amazon."
   ]
  },
  {
   "cell_type": "code",
   "execution_count": null,
   "metadata": {},
   "outputs": [],
   "source": [
    "fig, ax = plt.subplots()\n",
    "\n",
    "ax.plot(amazon['Date'],\n",
    "        amazon['Close'],\n",
    "        label = 'AMZN')\n",
    "\n",
    "# Add axis label and legend\n",
    "ax.set_ylabel('Closing price')\n",
    "ax.legend()\n",
    "\n",
    "plt.show()"
   ]
  },
  {
   "cell_type": "markdown",
   "metadata": {},
   "source": [
    "However, `df_close` contains the closing price for nine additional companies.\n",
    "\n",
    "If we want to plot the closing price for any of the other companies, we have to two options:\n",
    "\n",
    "- Re-write the same program but for a new company. Boring!\n",
    "- Write a function that plots the daily closing price for any given company. Fun!"
   ]
  },
  {
   "cell_type": "markdown",
   "metadata": {},
   "source": [
    "`plot_close` takes two inputs: a `DataFrame` and the name of the stock that we want to plot. The function returns a plot of the daily closing price for that stock."
   ]
  },
  {
   "cell_type": "code",
   "execution_count": null,
   "metadata": {},
   "outputs": [],
   "source": [
    "def plot_close(df, stock):\n",
    "    \n",
    "    # Extract subset\n",
    "    df_subset = df[df['Stock'] == stock].copy()\n",
    "\n",
    "    # Create figure \n",
    "    fig, ax = plt.subplots()\n",
    "\n",
    "    # Plot closing price\n",
    "    ax.plot(df_subset['Date'],\n",
    "            df_subset['Close'],\n",
    "            label = stock)\n",
    "\n",
    "    # Add axis label and legend\n",
    "    ax.set_ylabel('Closing price')\n",
    "    ax.legend()\n",
    "\n",
    "    plt.show()"
   ]
  },
  {
   "cell_type": "markdown",
   "metadata": {},
   "source": [
    "Notice that `plot_close` has no `return` statement. \n",
    "\n",
    "The point of `plot_close` is not to return any value. Instead, we execute the function because of it's side effect, namely plotting the closing price. "
   ]
  },
  {
   "cell_type": "code",
   "execution_count": null,
   "metadata": {},
   "outputs": [],
   "source": [
    "plot_close(df_close, 'AMZN')"
   ]
  },
  {
   "cell_type": "markdown",
   "metadata": {},
   "source": [
    "Notice that we *can* store the output of a non-value returning function in a variable if we want to. However, there is no point in doing so."
   ]
  },
  {
   "cell_type": "code",
   "execution_count": null,
   "metadata": {},
   "outputs": [],
   "source": [
    "graph = plot_close(df_close, 'AMZN')"
   ]
  },
  {
   "cell_type": "code",
   "execution_count": null,
   "metadata": {},
   "outputs": [],
   "source": [
    "graph"
   ]
  },
  {
   "cell_type": "code",
   "execution_count": null,
   "metadata": {},
   "outputs": [],
   "source": [
    "type(graph)"
   ]
  },
  {
   "cell_type": "code",
   "execution_count": null,
   "metadata": {},
   "outputs": [],
   "source": []
  },
  {
   "cell_type": "code",
   "execution_count": null,
   "metadata": {},
   "outputs": [],
   "source": []
  },
  {
   "cell_type": "markdown",
   "metadata": {},
   "source": [
    "## Mandatory exercise, part 1\n",
    "\n",
    "Adjust the function `plot_close` so that it instead takes a list of stocks and plots the daily closing price for all the stocks in the list in a single plot.\n",
    "\n",
    "The function should only plot the closing price of a stock if that stock is actually present in the data.\n",
    "\n",
    "Test the function using `closing_prices.csv`."
   ]
  },
  {
   "cell_type": "code",
   "execution_count": null,
   "metadata": {},
   "outputs": [],
   "source": []
  },
  {
   "cell_type": "code",
   "execution_count": null,
   "metadata": {},
   "outputs": [],
   "source": []
  }
 ],
 "metadata": {
  "kernelspec": {
   "display_name": "Python 3",
   "language": "python",
   "name": "python3"
  },
  "language_info": {
   "codemirror_mode": {
    "name": "ipython",
    "version": 3
   },
   "file_extension": ".py",
   "mimetype": "text/x-python",
   "name": "python",
   "nbconvert_exporter": "python",
   "pygments_lexer": "ipython3",
   "version": "3.8.8"
  }
 },
 "nbformat": 4,
 "nbformat_minor": 4
}
