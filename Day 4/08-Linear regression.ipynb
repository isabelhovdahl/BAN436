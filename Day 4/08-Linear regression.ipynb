{
 "cells": [
  {
   "cell_type": "markdown",
   "metadata": {},
   "source": [
    "# 08-Linear regression\n",
    "\n",
    "This notebook shows how to perform simple and multiple linear regression in Python."
   ]
  },
  {
   "cell_type": "markdown",
   "metadata": {},
   "source": [
    "# THIS NOTEBOOK SHOULD BE REVISED TO MAKE SURE THAT THERE ARE NO ERRORS IN THE PROGRAM CAUSED BY THE SOLUTION TO THE EXERCISES"
   ]
  },
  {
   "cell_type": "markdown",
   "metadata": {},
   "source": [
    "So far, we have seen how to do simple data analysis, e.g. `value_counts`, `describe`, `corr` etc. \n",
    "\n",
    "In linear regression, we take the analysis one step further by estimating a line that quantifies the relationship between variables in our data. \n",
    "\n",
    "The most common method for finding the regression line is OLS (ordinary linear square), where we find the intercept and slope of the line by minimizing the sum of the squared residuals.\n",
    "\n",
    "<img src=\"images/regression_line.png\" width = \"45%\" align=\"left\"/>"
   ]
  },
  {
   "cell_type": "markdown",
   "metadata": {},
   "source": [
    "We will use the OLS estimator from the package `statsmodels`. Using the sub-module `formula` allows us to fit statistical models using R-style formulas.\n",
    "\n",
    "We import `statsmodels` by giving it the shorter name `smf`."
   ]
  },
  {
   "cell_type": "code",
   "execution_count": null,
   "metadata": {},
   "outputs": [],
   "source": [
    "import statsmodels.formula.api as smf\n",
    "import pandas as pd\n",
    "import matplotlib.pyplot as plt"
   ]
  },
  {
   "cell_type": "code",
   "execution_count": null,
   "metadata": {},
   "outputs": [],
   "source": [
    "plt.style.use('ggplot')"
   ]
  },
  {
   "cell_type": "code",
   "execution_count": null,
   "metadata": {},
   "outputs": [],
   "source": []
  },
  {
   "cell_type": "markdown",
   "metadata": {},
   "source": [
    "## Simple linear regression"
   ]
  },
  {
   "cell_type": "markdown",
   "metadata": {},
   "source": [
    "In simple linear regression, we use data to estimate the relationship between a variable $y$ and a single variable $x$:\n",
    "\n",
    "$y_i = \\alpha + \\beta x_i $\n",
    "\n",
    "where:\n",
    "- $y$ is the dependent variable\n",
    "- $x$ is the explanatory (independent) variable\n",
    "- $\\alpha$ is the constant term\n",
    "- $\\beta$ is the slope of the regression line"
   ]
  },
  {
   "cell_type": "markdown",
   "metadata": {},
   "source": [
    "Let us explore the variation in cars' fuel economy (mpg)."
   ]
  },
  {
   "cell_type": "code",
   "execution_count": null,
   "metadata": {},
   "outputs": [],
   "source": [
    "mpg_df = pd.read_excel('data/mpg.xlsx')\n",
    "\n",
    "mpg_df.head()"
   ]
  },
  {
   "cell_type": "code",
   "execution_count": null,
   "metadata": {},
   "outputs": [],
   "source": [
    "len(mpg_df)"
   ]
  },
  {
   "cell_type": "markdown",
   "metadata": {},
   "source": [
    "`corr` shows a strong negative relationship between fuel economy and horsepower."
   ]
  },
  {
   "cell_type": "code",
   "execution_count": null,
   "metadata": {},
   "outputs": [],
   "source": [
    "mpg_df.corr()"
   ]
  },
  {
   "cell_type": "code",
   "execution_count": null,
   "metadata": {},
   "outputs": [],
   "source": [
    "correlation = round(mpg_df.corr().loc['horsepower', 'mpg'], 2)\n",
    "\n",
    "correlation"
   ]
  },
  {
   "cell_type": "markdown",
   "metadata": {},
   "source": [
    "Let us create a scatter plot between mpg and horsepower, and add the correlation coefficient as a title to the plot."
   ]
  },
  {
   "cell_type": "code",
   "execution_count": null,
   "metadata": {},
   "outputs": [],
   "source": [
    "fig, ax = plt.subplots()\n",
    "\n",
    "ax.scatter(mpg_df['horsepower'],\n",
    "           mpg_df['mpg'])\n",
    "\n",
    "# Add axis labels\n",
    "ax.set_xlabel('horsepower')\n",
    "ax.set_ylabel('mpg')\n",
    "\n",
    "# Add title\n",
    "ax.set_title('R = ' + str(correlation))\n",
    "\n",
    "plt.show()"
   ]
  },
  {
   "cell_type": "markdown",
   "metadata": {},
   "source": [
    "However, notice that there are a few missing observations in the data."
   ]
  },
  {
   "cell_type": "code",
   "execution_count": null,
   "metadata": {},
   "outputs": [],
   "source": [
    "mpg_df.isna().sum()"
   ]
  },
  {
   "cell_type": "markdown",
   "metadata": {},
   "source": [
    "Before estimating a statistical model, we should use `dropna` in order to drop all rows with missing observations.\n",
    "\n",
    "Notice that by setting `subset = ['mpg', 'horsepower']`, we only drop the rows with `NaN` in the columns that we will be using in our statistical model."
   ]
  },
  {
   "cell_type": "code",
   "execution_count": null,
   "metadata": {},
   "outputs": [],
   "source": [
    "mpg_df.dropna(subset = ['mpg', 'horsepower'], axis = 0, inplace = True)\n",
    "\n",
    "len(mpg_df)"
   ]
  },
  {
   "cell_type": "markdown",
   "metadata": {},
   "source": [
    "We are estimating the following model:\n",
    "\n",
    "$mpg_i = \\alpha + \\beta \\times horsepower_i$"
   ]
  },
  {
   "cell_type": "markdown",
   "metadata": {},
   "source": [
    "We start by transforming the model to a R-style formula. Notice that we do not have to add a constant term to the model formula (the constant term will be added automatically)."
   ]
  },
  {
   "cell_type": "code",
   "execution_count": null,
   "metadata": {},
   "outputs": [],
   "source": [
    "formula = 'mpg ~ horsepower'\n",
    "\n",
    "formula"
   ]
  },
  {
   "cell_type": "markdown",
   "metadata": {},
   "source": [
    "We create an OLS model by using the `ols` function from `smf`. \n",
    "\n",
    "`ols` requires two inputs: the model formula and the data that we want to estimate the model with."
   ]
  },
  {
   "cell_type": "code",
   "execution_count": null,
   "metadata": {},
   "outputs": [],
   "source": [
    "# Create OLS model\n",
    "model = smf.ols(formula, data = mpg_df)"
   ]
  },
  {
   "cell_type": "markdown",
   "metadata": {},
   "source": [
    "After we have created the OLS model, we must use `fit` in order to actually estimate the model."
   ]
  },
  {
   "cell_type": "code",
   "execution_count": null,
   "metadata": {},
   "outputs": [],
   "source": [
    "# Estimate model\n",
    "model = model.fit()"
   ]
  },
  {
   "cell_type": "code",
   "execution_count": null,
   "metadata": {},
   "outputs": [],
   "source": [
    "model"
   ]
  },
  {
   "cell_type": "markdown",
   "metadata": {},
   "source": [
    "In order to see the regression results, we apply the function `summary` on our `model`."
   ]
  },
  {
   "cell_type": "code",
   "execution_count": null,
   "metadata": {},
   "outputs": [],
   "source": [
    "model.summary()"
   ]
  },
  {
   "cell_type": "markdown",
   "metadata": {},
   "source": [
    "The table contains a lof of information that is stored in the `model` attributes:"
   ]
  },
  {
   "cell_type": "markdown",
   "metadata": {},
   "source": [
    "- The `param` attribute of `model` contains the model coefficients (intercept and slope)."
   ]
  },
  {
   "cell_type": "code",
   "execution_count": null,
   "metadata": {},
   "outputs": [],
   "source": [
    "model.params"
   ]
  },
  {
   "cell_type": "code",
   "execution_count": null,
   "metadata": {},
   "outputs": [],
   "source": [
    "model.params['horsepower']"
   ]
  },
  {
   "cell_type": "markdown",
   "metadata": {},
   "source": [
    "- The `bse` attribute of `model` contains the standard errors of the coefficients."
   ]
  },
  {
   "cell_type": "code",
   "execution_count": null,
   "metadata": {},
   "outputs": [],
   "source": [
    "model.bse"
   ]
  },
  {
   "cell_type": "markdown",
   "metadata": {},
   "source": [
    "- The `rsquared` and `rsquared_adj` attributes of `model` contains the model's R-squared and adjusted R-squared."
   ]
  },
  {
   "cell_type": "code",
   "execution_count": null,
   "metadata": {},
   "outputs": [],
   "source": [
    "model.rsquared"
   ]
  },
  {
   "cell_type": "code",
   "execution_count": null,
   "metadata": {},
   "outputs": [],
   "source": [
    "model.rsquared_adj"
   ]
  },
  {
   "cell_type": "markdown",
   "metadata": {},
   "source": [
    "<div class = \"alert alert-info\">\n",
    "<h3> Your turn</h3>\n",
    "    \n",
    "<p> Use instead <code>weight</code> as the only explanatory variable for explaining variation in <code>mpg</code>. Print the model's adjusted R-squared. \n",
    "    \n",
    "PS: Do not overwrite existing variable names!\n",
    "    \n",
    "</p>\n",
    "</div>"
   ]
  },
  {
   "cell_type": "markdown",
   "metadata": {},
   "source": [
    "**Solution**\n",
    "\n",
    "<details>\n",
    "    \n",
    "<summary> Click to expand!</summary>\n",
    "<p> \n",
    "\n",
    "```c#\n",
    "# Define model formula\n",
    "formula2 = 'mpg ~ weight'\n",
    "\n",
    "# Create and fit OLS model\n",
    "model2 = smf.ols(formula2, data = mpg_df).fit()\n",
    "\n",
    "# Store adj. R-squared\n",
    "rsqr = round(model2.rsquared_adj, 3)\n",
    "\n",
    "print('The adjusted R-squared: ' + str(rsqr))\n",
    "```\n",
    "\n",
    "</p>\n",
    "</details> "
   ]
  },
  {
   "cell_type": "code",
   "execution_count": null,
   "metadata": {},
   "outputs": [],
   "source": []
  },
  {
   "cell_type": "markdown",
   "metadata": {},
   "source": [
    "#### In-sample prediction\n",
    "\n",
    "Once we have estimated the OLS model, can use it to create a prediction for the dependent variable given our observations on the explanatory variable (this will allow us to visualize the regression line). "
   ]
  },
  {
   "cell_type": "markdown",
   "metadata": {},
   "source": [
    "We apply `predict` on the `model` in order to generate predictions. \n",
    "\n",
    "As a default, `predict` will predict the fuel economy for each observation of horsepower in the data."
   ]
  },
  {
   "cell_type": "code",
   "execution_count": null,
   "metadata": {},
   "outputs": [],
   "source": [
    "# In-sample predictions\n",
    "pred = model.predict()\n",
    "\n",
    "pred"
   ]
  },
  {
   "cell_type": "markdown",
   "metadata": {},
   "source": [
    "We can store the predictions in the original `DataFrame` by assigning the sequence of prediction to a new column `pred`."
   ]
  },
  {
   "cell_type": "code",
   "execution_count": null,
   "metadata": {},
   "outputs": [],
   "source": [
    "mpg_df['pred'] = pred\n",
    "\n",
    "mpg_df.head()"
   ]
  },
  {
   "cell_type": "markdown",
   "metadata": {},
   "source": [
    "Let us create a line plot of `pred` on the y-axis, and `horsepower` on the x-axis. This will show us the regression line."
   ]
  },
  {
   "cell_type": "code",
   "execution_count": null,
   "metadata": {},
   "outputs": [],
   "source": [
    "fig, ax = plt.subplots()\n",
    "\n",
    "# Line plot\n",
    "ax.plot(mpg_df['horsepower'],\n",
    "        mpg_df['pred'],\n",
    "        color = 'black')\n",
    "\n",
    "# Add axis labels\n",
    "ax.set_xlabel('horsepower')\n",
    "ax.set_ylabel('mpg')\n",
    "\n",
    "# Add title\n",
    "ax.set_title(formula)\n",
    "\n",
    "plt.show()"
   ]
  },
  {
   "cell_type": "markdown",
   "metadata": {},
   "source": [
    "Let us add a scatter plot of actual `mpg` and `horsepower` to the plot with the regression line."
   ]
  },
  {
   "cell_type": "code",
   "execution_count": null,
   "metadata": {},
   "outputs": [],
   "source": [
    "fig, ax = plt.subplots()\n",
    "\n",
    "# Scatter plot\n",
    "ax.scatter(mpg_df['horsepower'],\n",
    "           mpg_df['mpg'])\n",
    "\n",
    "# Line plot\n",
    "ax.plot(mpg_df['horsepower'],\n",
    "        mpg_df['pred'],\n",
    "        color = 'black')\n",
    "\n",
    "# Add axis labels\n",
    "ax.set_xlabel('horsepower')\n",
    "ax.set_ylabel('mpg')\n",
    "\n",
    "# Add title\n",
    "ax.set_title(formula)\n",
    "\n",
    "plt.show()"
   ]
  },
  {
   "cell_type": "markdown",
   "metadata": {},
   "source": [
    "<div class = \"alert alert-info\">\n",
    "<h3> Your turn</h3>\n",
    "    \n",
    "<p> Plot the regression line from the model that explains <code>mpg</code> using <code>weight</code> as the explanatory variable, along with a scatter plot of <code>mpg</code> and <code>weight</code>.\n",
    "    \n",
    "PS: Do not overwrite existing variable names/columns.\n",
    "    \n",
    "</p>\n",
    "</div>"
   ]
  },
  {
   "cell_type": "markdown",
   "metadata": {},
   "source": [
    "**Solution**\n",
    "\n",
    "<details>\n",
    "    \n",
    "<summary> Click to expand!</summary>\n",
    "<p> \n",
    "\n",
    "```c#\n",
    "### Re-run the model ###\n",
    "\n",
    "# Define model formula\n",
    "formula2 = 'mpg ~ weight'\n",
    "\n",
    "# Create and fit OLS model\n",
    "model2 = smf.ols(formula2, data = mpg_df).fit()\n",
    "\n",
    "# Store adj. R-squared\n",
    "rsqr = round(model2.rsquared_adj, 3)\n",
    "\n",
    "print('The adjusted R-squared: ' + str(rsqr))\n",
    "\n",
    "# In-sample predictions\n",
    "mpg_df['pred2'] = model2.predict()\n",
    "\n",
    "\n",
    "### Plot ###\n",
    "fig, ax = plt.subplots()\n",
    "\n",
    "# Scatter plot\n",
    "ax.scatter(mpg_df['weight'],\n",
    "           mpg_df['mpg'])\n",
    "\n",
    "# Line plot\n",
    "ax.plot(mpg_df['weight'],\n",
    "        mpg_df['pred2'],\n",
    "        color = 'black')\n",
    "\n",
    "# Add axis labels\n",
    "ax.set_xlabel('weight')\n",
    "ax.set_ylabel('mpg')\n",
    "\n",
    "# Add title\n",
    "ax.set_title(formula2)\n",
    "\n",
    "plt.show()\n",
    "```\n",
    "\n",
    "</p>\n",
    "</details> "
   ]
  },
  {
   "cell_type": "code",
   "execution_count": null,
   "metadata": {},
   "outputs": [],
   "source": []
  },
  {
   "cell_type": "markdown",
   "metadata": {},
   "source": [
    "In addition, we can visually inspect how well `horsepower` explains variation in fuel economy.\n",
    "- First, we create a 45 degree line by plotting actual `mpg` against actual `mpg`.\n",
    "- Second, we create a scatter plot of actual `mpg` and `pred`.\n",
    "\n",
    "The closer the predictions are to the 45 degree line, the better job does our model at explaining the variation in fuel economy."
   ]
  },
  {
   "cell_type": "code",
   "execution_count": null,
   "metadata": {},
   "outputs": [],
   "source": [
    "fig, ax = plt.subplots()\n",
    "\n",
    "# 45 degree line\n",
    "ax.plot(mpg_df['mpg'], \n",
    "        mpg_df['mpg'], \n",
    "        color = 'black')\n",
    "\n",
    "# Scatter plot\n",
    "ax.scatter(mpg_df['mpg'],\n",
    "           mpg_df['pred'])\n",
    "\n",
    "# Add axis labels\n",
    "ax.set_xlabel('mpg')\n",
    "ax.set_ylabel('pred')\n",
    "\n",
    "# Add title\n",
    "ax.set_title(formula)\n",
    "\n",
    "plt.show()"
   ]
  },
  {
   "cell_type": "markdown",
   "metadata": {},
   "source": [
    "According to the plot, the model seems to do a good job at explaining fuel economy at low levels of mpg. However, at high levels of mpg, the model underpredicts the mpg."
   ]
  },
  {
   "cell_type": "markdown",
   "metadata": {},
   "source": [
    "<div class = \"alert alert-info\">\n",
    "<h3> Your turn </h3>\n",
    "    \n",
    "<p> Plot the predictions along the 45 degree line for the regression model with <code>weight</code> as the explanatory variable.\n",
    "    \n",
    "</p>\n",
    "</div>"
   ]
  },
  {
   "cell_type": "markdown",
   "metadata": {},
   "source": [
    "**Solution**\n",
    "\n",
    "<details>\n",
    "    \n",
    "<summary> Click to expand!</summary>\n",
    "<p> \n",
    "\n",
    "```c#\n",
    "fig, ax = plt.subplots()\n",
    "\n",
    "# 45 degree line\n",
    "ax.plot(mpg_df['mpg'], \n",
    "        mpg_df['mpg'], \n",
    "        color = 'black')\n",
    "\n",
    "# Scatter plot\n",
    "ax.scatter(mpg_df['mpg'],\n",
    "           mpg_df['pred2'])\n",
    "\n",
    "# Add axis labels\n",
    "ax.set_xlabel('mpg')\n",
    "ax.set_ylabel('pred')\n",
    "\n",
    "# Add title\n",
    "ax.set_title(formula2)\n",
    "\n",
    "plt.show()\n",
    "```\n",
    "\n",
    "</p>\n",
    "</details> "
   ]
  },
  {
   "cell_type": "code",
   "execution_count": null,
   "metadata": {},
   "outputs": [],
   "source": []
  },
  {
   "cell_type": "markdown",
   "metadata": {},
   "source": [
    "Notice that if we want to use other explanatory variables than `horsepower`, we have two options:\n",
    "\n",
    "- Re-write our program above using a new explanatory variable. Boring!\n",
    "- Write a function that estimates an OLS model for any given explanatory variable. Fun!"
   ]
  },
  {
   "cell_type": "markdown",
   "metadata": {},
   "source": [
    "Let us create two functions:"
   ]
  },
  {
   "cell_type": "markdown",
   "metadata": {},
   "source": [
    "1. `get_predictions` that estimates an OLS model given a model formula and data, and that creates the in-sample predictions:"
   ]
  },
  {
   "cell_type": "code",
   "execution_count": null,
   "metadata": {},
   "outputs": [],
   "source": [
    "def get_predictions(formula, df):\n",
    "    \n",
    "    # Copy dataframe\n",
    "    df_copy = df.copy()\n",
    "    \n",
    "    # Create and fit OLS model\n",
    "    model = smf.ols(formula, data = df_copy).fit()\n",
    "\n",
    "    # Add predictions to copied dataframe\n",
    "    df_copy['pred'] = model.predict()\n",
    "    \n",
    "    return df_copy"
   ]
  },
  {
   "cell_type": "markdown",
   "metadata": {},
   "source": [
    "2. `plot_predictions` that plots the predictions along with the 45 degree line given a model formula and data."
   ]
  },
  {
   "cell_type": "code",
   "execution_count": null,
   "metadata": {},
   "outputs": [],
   "source": [
    "def plot_predictions(formula, df):\n",
    "    \n",
    "    fig, ax = plt.subplots()\n",
    "\n",
    "    # 45 degree line\n",
    "    ax.plot(df['mpg'], \n",
    "            df['mpg'], \n",
    "            color = 'black')\n",
    "\n",
    "    # Scatter plot\n",
    "    ax.scatter(df['mpg'],\n",
    "               df['pred'])\n",
    "\n",
    "    # Add axis labels\n",
    "    ax.set_xlabel('mpg')\n",
    "    ax.set_ylabel('pred')\n",
    "    \n",
    "    # Add title\n",
    "    ax.set_title(formula)\n",
    "    \n",
    "    plt.show()"
   ]
  },
  {
   "cell_type": "markdown",
   "metadata": {},
   "source": [
    "Let us re-run the estimation above, but using our functions instead. \n",
    "\n",
    "We start by re-importing the data to remove columns with predictions from previous models."
   ]
  },
  {
   "cell_type": "code",
   "execution_count": null,
   "metadata": {},
   "outputs": [],
   "source": [
    "mpg_df = pd.read_excel('data/mpg.xlsx')\n",
    "mpg_df.dropna(inplace = True)\n",
    "\n",
    "mpg_df.head()"
   ]
  },
  {
   "cell_type": "markdown",
   "metadata": {},
   "source": [
    "- Step 1: estimate the model and get in-sample predictions"
   ]
  },
  {
   "cell_type": "code",
   "execution_count": null,
   "metadata": {},
   "outputs": [],
   "source": [
    "# Define formula\n",
    "formula = 'mpg ~ horsepower'\n",
    "\n",
    "# Estimate model and get in-sample predictions (store in new df)\n",
    "mpg_df_new = get_predictions(formula, mpg_df)\n",
    "\n",
    "mpg_df_new.head()"
   ]
  },
  {
   "cell_type": "code",
   "execution_count": null,
   "metadata": {},
   "outputs": [],
   "source": [
    "# Notice that original data has not been altered\n",
    "#mpg_df.head()"
   ]
  },
  {
   "cell_type": "markdown",
   "metadata": {},
   "source": [
    "- Step 2: Plot predictions along the 45 degree line"
   ]
  },
  {
   "cell_type": "code",
   "execution_count": null,
   "metadata": {},
   "outputs": [],
   "source": [
    "# Plot predictions\n",
    "plot_predictions(formula, mpg_df_new)"
   ]
  },
  {
   "cell_type": "markdown",
   "metadata": {},
   "source": [
    "<div class = \"alert alert-info\">\n",
    "<h3> Your turn</h3>\n",
    "    \n",
    "<p> Create instead a function called <code>get_rsqr</code> that takes the two inputs: a model formula and a <code>DataFrame</code>.\n",
    "The function should estimate a regression model using the model formula and the data, and return the model's adjusted R-squared.\n",
    "    \n",
    "</p>\n",
    "</div>"
   ]
  },
  {
   "cell_type": "markdown",
   "metadata": {},
   "source": [
    "**Solution**\n",
    "\n",
    "<details>\n",
    "    \n",
    "<summary> Click to expand!</summary>\n",
    "<p> \n",
    "\n",
    "```c#\n",
    "def get_rsqr(formula, df):\n",
    "    \n",
    "    # Create and fit an OLS model\n",
    "    model = smf.ols(formula, data = df).fit()\n",
    "    \n",
    "    # Store adj. R-squared\n",
    "    rsqr = model.rsquared_adj\n",
    "    \n",
    "    return rsqr\n",
    "\n",
    "\n",
    "get_rsqr('mpg ~ weight', mpg_df)\n",
    "```\n",
    "\n",
    "</p>\n",
    "</details> "
   ]
  },
  {
   "cell_type": "code",
   "execution_count": null,
   "metadata": {},
   "outputs": [],
   "source": []
  },
  {
   "cell_type": "markdown",
   "metadata": {},
   "source": [
    "## Multiple linear regression\n",
    "\n",
    "In multiple linear regression, we expand the simple model to include multiple explanatory variables:\n",
    "\n",
    "$y_i = \\alpha + \\beta_1 x_{i, 1} + \\beta_2 x_{i, 2} + \\beta_3 x_{i, 3}$ ...\n",
    "\n",
    "In general, we can increase the explanatory power of our model (R-squared) by including more explanatory variables. "
   ]
  },
  {
   "cell_type": "markdown",
   "metadata": {},
   "source": [
    "`corr` shows that there is also a high correlation between a cars' fuel economy and their weight."
   ]
  },
  {
   "cell_type": "code",
   "execution_count": null,
   "metadata": {},
   "outputs": [],
   "source": [
    "mpg_df.corr()"
   ]
  },
  {
   "cell_type": "markdown",
   "metadata": {},
   "source": [
    "We will now estimate the following model:\n",
    "\n",
    "$mpg_i = \\alpha + \\beta_1 \\times horsepower_i + \\beta_2 \\times weight_i$"
   ]
  },
  {
   "cell_type": "markdown",
   "metadata": {},
   "source": [
    "We expand the model formula with weight as an explanatory variable."
   ]
  },
  {
   "cell_type": "code",
   "execution_count": null,
   "metadata": {},
   "outputs": [],
   "source": [
    "formula = 'mpg ~ horsepower + weight'"
   ]
  },
  {
   "cell_type": "markdown",
   "metadata": {},
   "source": [
    "Let us use the functions that we created above and execute the same two steps:"
   ]
  },
  {
   "cell_type": "markdown",
   "metadata": {},
   "source": [
    "- Step 1: estimate the model and get model predictions"
   ]
  },
  {
   "cell_type": "code",
   "execution_count": null,
   "metadata": {},
   "outputs": [],
   "source": [
    "# Estimate model and get in-sample predictions\n",
    "mpg_df_new = get_predictions(formula, mpg_df)\n",
    "\n",
    "mpg_df_new.head()"
   ]
  },
  {
   "cell_type": "markdown",
   "metadata": {},
   "source": [
    "- Step 2: plot predictions along the 45 degree line"
   ]
  },
  {
   "cell_type": "code",
   "execution_count": null,
   "metadata": {},
   "outputs": [],
   "source": [
    "plot_predictions(formula, mpg_df_new)"
   ]
  },
  {
   "cell_type": "markdown",
   "metadata": {},
   "source": [
    "As before, if the model does a good job at explaining the variation in fuel economy, we would expect the predictions to be close to actual observations. From the plot, we can see that the model still under-predicts fuel economy for high levels of mpg."
   ]
  },
  {
   "cell_type": "markdown",
   "metadata": {},
   "source": [
    "Notice that if we are only interested in looking at the plot with the predictions along the 45 degree line, then it is really not necessary to create `mpg_df_new` with the predictions...\n",
    "\n",
    "To avoid cluttering our name space, i.e. creating unecessary variables, we can instead simply pass the function call to `get_predictions` directly inside our function call to `plot_predictions`."
   ]
  },
  {
   "cell_type": "code",
   "execution_count": null,
   "metadata": {},
   "outputs": [],
   "source": [
    "plot_predictions(formula, get_predictions(formula, mpg_df))"
   ]
  },
  {
   "cell_type": "markdown",
   "metadata": {},
   "source": [
    "<div class = \"alert alert-info\">\n",
    "<h3> Your turn</h3>\n",
    "    \n",
    "<p> Notice that our function <code>plot_predictions</code> is not very general since the function has \"hard-coded\" the name of the dependent variable. What if we want to plot predictions from a model with a different dependent variable? \n",
    "    \n",
    "Modify <code>plot_predictions</code> so that the function can be used to plot the predictions along the 45 degree line for any dependent variable. Test the function by plotting the predictions from the model <code>'horsepower ~ mpg'</code>.\n",
    "\n",
    "</p>\n",
    "</div>"
   ]
  },
  {
   "cell_type": "markdown",
   "metadata": {},
   "source": [
    "**Solution**\n",
    "\n",
    "<details>\n",
    "    \n",
    "<summary> Click to expand!</summary>\n",
    "<p> \n",
    "\n",
    "```c#\n",
    "    \n",
    "formula = 'horsepower ~ mpg'\n",
    "    \n",
    "    \n",
    "# Alternative 1\n",
    "def plot_predictions(formula, dep_var, df):\n",
    "    \n",
    "    fig, ax = plt.subplots()\n",
    "\n",
    "    # 45 degree line\n",
    "    ax.plot(df[dep_var], \n",
    "            df[dep_var], \n",
    "            color = 'black')\n",
    "\n",
    "    # Scatter plot\n",
    "    ax.scatter(df[dep_var],\n",
    "               df['pred'])\n",
    "\n",
    "    # Add axis labels\n",
    "    ax.set_xlabel(dep_var)\n",
    "    ax.set_ylabel('pred')\n",
    "    \n",
    "    # Add title\n",
    "    ax.set_title(formula)\n",
    "    \n",
    "    plt.show()\n",
    "    \n",
    "plot_predictions(formula, 'mpg', get_predictions(formula, mpg_df))\n",
    "\n",
    "    \n",
    "# Alternative 2\n",
    "def plot_predictions(formula, df):\n",
    "    \n",
    "    fig, ax = plt.subplots()\n",
    "    \n",
    "    # Get dependent variable from formula\n",
    "    dep_var = formula.split('~')[0].strip() # strip() removes any whitespace from a string\n",
    "\n",
    "    # 45 degree line\n",
    "    ax.plot(df[dep_var], \n",
    "            df[dep_var], \n",
    "            color = 'black')\n",
    "\n",
    "    # Scatter plot\n",
    "    ax.scatter(df[dep_var],\n",
    "               df['pred'])\n",
    "\n",
    "    # Add axis labels\n",
    "    ax.set_xlabel(dep_var)\n",
    "    ax.set_ylabel('pred')\n",
    "    \n",
    "    # Add title\n",
    "    ax.set_title(formula)\n",
    "    \n",
    "    plt.show()\n",
    "    \n",
    "plot_predictions(formula, get_predictions(formula, mpg_df))\n",
    "```\n",
    "\n",
    "</p>\n",
    "</details> "
   ]
  },
  {
   "cell_type": "code",
   "execution_count": null,
   "metadata": {},
   "outputs": [],
   "source": []
  },
  {
   "cell_type": "markdown",
   "metadata": {},
   "source": [
    "#### Polynomial regression\n"
   ]
  },
  {
   "cell_type": "markdown",
   "metadata": {},
   "source": [
    "# ADD PICTURE THAT ILLUSTRATES POLYNOMIAL MODEL"
   ]
  },
  {
   "cell_type": "markdown",
   "metadata": {},
   "source": [
    "From the scatter plot, we can see that the relationship between cars' fuel economy and horsepower does not seem to be linear."
   ]
  },
  {
   "cell_type": "code",
   "execution_count": null,
   "metadata": {},
   "outputs": [],
   "source": [
    "fig, ax = plt.subplots()\n",
    "\n",
    "ax.scatter(mpg_df['horsepower'],\n",
    "           mpg_df['mpg'])\n",
    "\n",
    "# Add axis labels\n",
    "ax.set_xlabel('horsepower')\n",
    "ax.set_ylabel('mpg')\n",
    "\n",
    "plt.show()"
   ]
  },
  {
   "cell_type": "markdown",
   "metadata": {},
   "source": [
    "When the relationship between a dependent and independent variable is not linear, a polynomial model is usually more appropiate. \n",
    "\n",
    "In a 2nd order polynomial model, we expand the model to also include the squared of the explanatory variable."
   ]
  },
  {
   "cell_type": "markdown",
   "metadata": {},
   "source": [
    "Let us estimate the following 2nd order polynomial model:\n",
    "\n",
    "$mpg_i = \\alpha + \\beta_1 \\times horsepower_i + \\beta_2 \\times horsepower_i^2$"
   ]
  },
  {
   "cell_type": "markdown",
   "metadata": {},
   "source": [
    "In R-style formula, we can include the squared explanatory variable by adding the term `I(horsepower**2)`. "
   ]
  },
  {
   "cell_type": "code",
   "execution_count": null,
   "metadata": {},
   "outputs": [],
   "source": [
    "f_poly = 'mpg ~ horsepower + I(horsepower**2)'"
   ]
  },
  {
   "cell_type": "code",
   "execution_count": null,
   "metadata": {},
   "outputs": [],
   "source": [
    "# Estimate OLS model\n",
    "model_poly = smf.ols(f_poly, mpg_df).fit()\n",
    "\n",
    "# Model summary\n",
    "model_poly.summary()"
   ]
  },
  {
   "cell_type": "markdown",
   "metadata": {},
   "source": [
    "We can use our function `get_predictions` to generate a new `DataFrame` with the in-sample predictions from our polynomial model."
   ]
  },
  {
   "cell_type": "code",
   "execution_count": null,
   "metadata": {},
   "outputs": [],
   "source": [
    "# Create in-sample predictions\n",
    "mpg_df_new = get_predictions(f_poly, mpg_df)\n",
    "\n",
    "mpg_df_new.head()"
   ]
  },
  {
   "cell_type": "markdown",
   "metadata": {},
   "source": [
    "Since there is technically only one explanatory variable in the model (`horsepower`), we can visualize the regression line."
   ]
  },
  {
   "cell_type": "markdown",
   "metadata": {},
   "source": [
    "However, when we have a non-linear model, we must sort the `DataFrame` with the predictions according to the explanatory variable in order to get a nice-looking regression line."
   ]
  },
  {
   "cell_type": "code",
   "execution_count": null,
   "metadata": {},
   "outputs": [],
   "source": [
    "# Sort values\n",
    "mpg_df_new.sort_values('horsepower', inplace = True)"
   ]
  },
  {
   "cell_type": "code",
   "execution_count": null,
   "metadata": {},
   "outputs": [],
   "source": [
    "fig, ax = plt.subplots()\n",
    "\n",
    "# Scatter plot\n",
    "ax.scatter(mpg_df_new['horsepower'],\n",
    "           mpg_df_new['mpg'])\n",
    "\n",
    "# Line plot\n",
    "ax.plot(mpg_df_new['horsepower'],\n",
    "        mpg_df_new['pred'],\n",
    "        color = 'black')\n",
    "\n",
    "# Add axis labels\n",
    "ax.set_xlabel('horsepower')\n",
    "ax.set_ylabel('mpg')\n",
    "\n",
    "# Add title\n",
    "ax.set_title(f_poly)\n",
    "\n",
    "plt.show()"
   ]
  },
  {
   "cell_type": "markdown",
   "metadata": {},
   "source": [
    "As before, we can use `plot_predictions` to visually inspect the predictions of the model along the 45 degree line."
   ]
  },
  {
   "cell_type": "code",
   "execution_count": null,
   "metadata": {},
   "outputs": [],
   "source": [
    "plot_predictions(f_poly, mpg_df_new)"
   ]
  },
  {
   "cell_type": "markdown",
   "metadata": {},
   "source": [
    "From the plot, it seems that 2nd order polynomial model does a better job at predicting fuel economy. However, the model still slightly under-predicts fuel economy at high levels of mpg."
   ]
  },
  {
   "cell_type": "markdown",
   "metadata": {},
   "source": [
    "Notice that there seems to be a non-linear relationship between `mpg` and the potential explanatory variables `horsepower`, `weight`, `acceleration`, and `model_year`."
   ]
  },
  {
   "cell_type": "code",
   "execution_count": null,
   "metadata": {},
   "outputs": [],
   "source": [
    "var_lst = ['horsepower', 'weight', 'acceleration', 'model_year']"
   ]
  },
  {
   "cell_type": "code",
   "execution_count": null,
   "metadata": {},
   "outputs": [],
   "source": [
    "fig, ax = plt.subplots(nrows = 1, ncols = 4, figsize = (14, 3))\n",
    "\n",
    "for i in range(len(var_lst)):\n",
    "\n",
    "    # Create a scatter plot with mpg\n",
    "    ax[i].scatter(mpg_df[var_lst[i]],\n",
    "                  mpg_df['mpg'])\n",
    "    \n",
    "    # Add ylabel\n",
    "    ax[i].set_xlabel(var_lst[i])\n",
    "\n",
    "ax[0].set_ylabel('mpg')\n",
    "\n",
    "plt.show()"
   ]
  },
  {
   "cell_type": "markdown",
   "metadata": {},
   "source": [
    "<div class = \"alert alert-info\">\n",
    "<h3> Your turn</h3>\n",
    "    \n",
    "<p> Create a <code>for</code> loop where you estimate a 2nd order polynomial model using only one of the potential explanatory variables: <code>horsepower</code>, <code>weight</code>, <code>acceleration</code> and <code>model_year</code>. \n",
    "    \n",
    "In each iteration:\n",
    "    \n",
    "- Create the model formula.\n",
    "- Use the function <code>get_rsqr</code> that you created above to extract the model's adj. R-squared.\n",
    "- Store the adj. R-squared in a list.\n",
    "    \n",
    "Which 2nd order polynomial model has the highest adj. R-squared?\n",
    "    \n",
    "</p>\n",
    "</div>"
   ]
  },
  {
   "cell_type": "markdown",
   "metadata": {},
   "source": [
    "**Solution**\n",
    "\n",
    "<details>\n",
    "    \n",
    "<summary> Click to expand!</summary>\n",
    "<p> \n",
    "\n",
    "```c#\n",
    "rsqr_lst = []\n",
    "\n",
    "for var in ['horsepower', 'weight', 'acceleration', 'model_year']:\n",
    "    \n",
    "    # Create model formula\n",
    "    formula = 'mpg ~ ' + var + ' + I(' + var + '**2)'\n",
    "    \n",
    "    # Extract ad. R-squared\n",
    "    rsqr = get_rsqr(formula, mpg_df)\n",
    "    \n",
    "    # Append to list\n",
    "    rsqr_lst.append(rsqr)\n",
    "    \n",
    "print(rsqr_lst)\n",
    "```\n",
    "\n",
    "</p>\n",
    "</details> "
   ]
  },
  {
   "cell_type": "code",
   "execution_count": null,
   "metadata": {},
   "outputs": [],
   "source": []
  },
  {
   "cell_type": "markdown",
   "metadata": {},
   "source": [
    "#### Categorical variables\n",
    "\n",
    "In linear regression models we often want to include categorical variables in order to allow different intercepts for different groups in our data."
   ]
  },
  {
   "cell_type": "markdown",
   "metadata": {},
   "source": [
    "# ADD PICTURE THAT ILLUSTRATES DIFFERENT INTERCEPTS"
   ]
  },
  {
   "cell_type": "markdown",
   "metadata": {},
   "source": [
    "Notice that our `mpg` data contains the categorical variable `origin`. In fact, the average fuel economy is very different for cars from the US compared to cars from Europe and Japan."
   ]
  },
  {
   "cell_type": "code",
   "execution_count": null,
   "metadata": {},
   "outputs": [],
   "source": [
    "mpg_df.groupby('origin')['mpg'].mean()"
   ]
  },
  {
   "cell_type": "markdown",
   "metadata": {},
   "source": [
    "In R-style formula, we can include categorical variables by adding the term `C(origin)`. "
   ]
  },
  {
   "cell_type": "code",
   "execution_count": null,
   "metadata": {},
   "outputs": [],
   "source": [
    "f_cat = 'mpg ~ horsepower + C(origin)'"
   ]
  },
  {
   "cell_type": "markdown",
   "metadata": {},
   "source": [
    "The estimated intercept is now different for American, Japanese and European cars."
   ]
  },
  {
   "cell_type": "code",
   "execution_count": null,
   "metadata": {},
   "outputs": [],
   "source": [
    "# Estimate OLS model\n",
    "model_cat = smf.ols(f_cat, mpg_df).fit()\n",
    "\n",
    "# Model summary\n",
    "model_cat.summary()"
   ]
  },
  {
   "cell_type": "markdown",
   "metadata": {},
   "source": [
    "We can use `plot_predictions` to plot the predictions from the model with `origin` along the 45 degree line. \n",
    "\n",
    "Even though we have adjusted the intercept in the regression line for the origin of the cars, the model still underpredicts `mpg` for the very fuel-efficient cars."
   ]
  },
  {
   "cell_type": "code",
   "execution_count": null,
   "metadata": {},
   "outputs": [],
   "source": [
    "plot_predictions(f_cat, get_predictions(f_cat, mpg_df))"
   ]
  },
  {
   "cell_type": "code",
   "execution_count": null,
   "metadata": {},
   "outputs": [],
   "source": []
  },
  {
   "cell_type": "markdown",
   "metadata": {},
   "source": [
    "## Mandatory exercise part 2\n",
    "\n",
    "The presence of outliers, i.e. observations with \"untypical\" values, can heavliy influence our regression results. An important step in statistical analysis is therefore to investigate the presence of potential outliers.\n",
    "\n",
    "In the simple regression model that we estimated first we saw that the model consistently underpredicted `mpg` at high levels of actual `mpg`. Could this be caused by some car models having untypical/extreme levels of horsepower?\n",
    "\n",
    "Import `mpg.xlsx` and explore the presence of extreme values of horsepower in the data and its effect on the simple regression model (`mpg ~ horsepower`).\n",
    "\n",
    "1. Check for outliers in `horsepower`. Present descriptive and/or graphical analysis that you see fit.\n",
    "\n",
    "\n",
    "2. Explore how much dropping a single observation, i.e. car model, from the data affects the estimated coefficient on `horsepower`:\n",
    "\n",
    "    a. Create a function called `get_beta` that estimates a simple regression model and returns the beta coefficient for the explanatory/independent variable. The function should take three inputs: `df` (the dataset), `dep` (column name of the dependent variable) and `indep` (column name for the independent variable). \n",
    "    \n",
    "    b. Ceate a `for` loop where you in each iteration drop an observation from the data and use `get_beta` to retreieve the beta coefficient from that model. Notice that in the first iteration you should drop the first observation. In the second iteration you should keep the first observation but drop the second observation. In the third iteration you should keep the first and second observations, but drop the third one, and so on...\n",
    "    \n",
    "    c. Show a histogram of the estimated beta coefficients. What is your verdict? Does it seem that the estimated coefficient on `horsepower` is affected by the presence of outliers?\n",
    "\n",
    "\n"
   ]
  },
  {
   "cell_type": "code",
   "execution_count": null,
   "metadata": {},
   "outputs": [],
   "source": []
  },
  {
   "cell_type": "code",
   "execution_count": null,
   "metadata": {},
   "outputs": [],
   "source": []
  }
 ],
 "metadata": {
  "kernelspec": {
   "display_name": "Python 3",
   "language": "python",
   "name": "python3"
  },
  "language_info": {
   "codemirror_mode": {
    "name": "ipython",
    "version": 3
   },
   "file_extension": ".py",
   "mimetype": "text/x-python",
   "name": "python",
   "nbconvert_exporter": "python",
   "pygments_lexer": "ipython3",
   "version": "3.8.8"
  }
 },
 "nbformat": 4,
 "nbformat_minor": 4
}
